{
 "cells": [
  {
   "cell_type": "code",
   "execution_count": 16,
   "metadata": {},
   "outputs": [
    {
     "name": "stdout",
     "output_type": "stream",
     "text": [
      "# Pull model image\n",
      "FROM ewatercycle/wflow:latest\n",
      "MAINTAINER Gijs van den Oord <g.vandenoord@esciencecenter.nl>\n",
      "\n",
      "# Install grpc4bmi\n",
      "RUN pip install grpc4bmi\n",
      "\n",
      "# Set environment\n",
      "WORKDIR /data/input\n",
      "ENV BMI_MODULE=wflow.wflow_bmi\n",
      "ENV BMI_CLASS=wflowbmi_csdms\n",
      "ENV BMI_PORT=55555\n",
      "ENTRYPOINT [\"run-bmi-server\"]\n",
      "EXPOSE 55555\n"
     ]
    }
   ],
   "source": [
    "cat Dockerfile"
   ]
  },
  {
   "cell_type": "code",
   "execution_count": 17,
   "metadata": {},
   "outputs": [],
   "source": [
    "import docker\n",
    "client = docker.from_env()"
   ]
  },
  {
   "cell_type": "code",
   "execution_count": 18,
   "metadata": {
    "scrolled": true
   },
   "outputs": [
    {
     "data": {
      "text/plain": [
       "[<Image: 'ewatercycle/wflow-grpc4bmi:latest'>]"
      ]
     },
     "execution_count": 18,
     "metadata": {},
     "output_type": "execute_result"
    }
   ],
   "source": [
    "client.images.list(name=\"wflow*\")"
   ]
  },
  {
   "cell_type": "code",
   "execution_count": 19,
   "metadata": {},
   "outputs": [],
   "source": [
    "from grpc4bmi.bmi_client_docker import BmiClientDocker\n"
   ]
  },
  {
   "cell_type": "code",
   "execution_count": 20,
   "metadata": {},
   "outputs": [],
   "source": [
    "wflow = BmiClientDocker(image=\"ewatercycle/wflow-grpc4bmi:latest\", image_port=55555, \n",
    "                        input_dir=\"./data/examples/wflow_rhine_sbm\")"
   ]
  },
  {
   "cell_type": "code",
   "execution_count": 22,
   "metadata": {},
   "outputs": [
    {
     "data": {
      "text/plain": [
       "'undefined'"
      ]
     },
     "execution_count": 22,
     "metadata": {},
     "output_type": "execute_result"
    }
   ],
   "source": [
    "wflow.get_component_name()"
   ]
  },
  {
   "cell_type": "code",
   "execution_count": 23,
   "metadata": {},
   "outputs": [],
   "source": [
    "wflow.initialize(\"wflow_sbm.ini\")"
   ]
  },
  {
   "cell_type": "code",
   "execution_count": 24,
   "metadata": {},
   "outputs": [
    {
     "data": {
      "text/plain": [
       "('CanopyStorage',\n",
       " 'FirstZoneDepth',\n",
       " 'LowerZoneStorage',\n",
       " 'Snow',\n",
       " 'SnowWater',\n",
       " 'SurfaceRunoff',\n",
       " 'SurfaceRunoffDyn',\n",
       " 'TSoil',\n",
       " 'UStoreDepth',\n",
       " 'WaterLevel',\n",
       " 'WaterLevelDyn',\n",
       " 'InwaterMM',\n",
       " 'IF')"
      ]
     },
     "execution_count": 24,
     "metadata": {},
     "output_type": "execute_result"
    }
   ],
   "source": [
    "wflow.get_input_var_names()"
   ]
  },
  {
   "cell_type": "code",
   "execution_count": 25,
   "metadata": {},
   "outputs": [
    {
     "data": {
      "text/plain": [
       "('CanopyStorage',\n",
       " 'FirstZoneDepth',\n",
       " 'LowerZoneStorage',\n",
       " 'Snow',\n",
       " 'SnowWater',\n",
       " 'SurfaceRunoff',\n",
       " 'SurfaceRunoffDyn',\n",
       " 'TSoil',\n",
       " 'UStoreDepth',\n",
       " 'WaterLevel',\n",
       " 'WaterLevelDyn',\n",
       " 'PotTransSoil',\n",
       " 'Transpiration',\n",
       " 'ActEvapOpenWater',\n",
       " 'soilevap',\n",
       " 'Interception',\n",
       " 'ActEvap',\n",
       " 'SurfaceRunoffCatchmentMM',\n",
       " 'ExcessWater',\n",
       " 'InfiltExcess',\n",
       " 'ActInfilt',\n",
       " 'zi',\n",
       " 'Transfer',\n",
       " 'CapFlux',\n",
       " 'RunoffCoeff',\n",
       " 'InwaterMM')"
      ]
     },
     "execution_count": 25,
     "metadata": {},
     "output_type": "execute_result"
    }
   ],
   "source": [
    "wflow.get_output_var_names()"
   ]
  },
  {
   "cell_type": "code",
   "execution_count": 26,
   "metadata": {},
   "outputs": [
    {
     "name": "stdout",
     "output_type": "stream",
     "text": [
      "791510400.0\n"
     ]
    }
   ],
   "source": [
    "tstart = wflow.get_start_time()\n",
    "tstep = wflow.get_time_step()\n",
    "print(tstart)"
   ]
  },
  {
   "cell_type": "code",
   "execution_count": 27,
   "metadata": {},
   "outputs": [
    {
     "name": "stdout",
     "output_type": "stream",
     "text": [
      "CPU times: user 240 µs, sys: 4.61 ms, total: 4.85 ms\n",
      "Wall time: 18 s\n",
      "800150400.0\n"
     ]
    }
   ],
   "source": [
    "%time wflow.update_until(tstart + 100 * tstep)\n",
    "print(wflow.get_current_time())"
   ]
  },
  {
   "cell_type": "code",
   "execution_count": 28,
   "metadata": {},
   "outputs": [],
   "source": [
    "variable = \"SurfaceRunoff\"\n",
    "vals = wflow.get_value(variable)\n",
    "unit = wflow.get_var_units(variable)"
   ]
  },
  {
   "cell_type": "code",
   "execution_count": 29,
   "metadata": {},
   "outputs": [
    {
     "name": "stderr",
     "output_type": "stream",
     "text": [
      "/home/stefanv/.local/share/virtualenvs/grpc4bmi-examples-zcVIRBXR/lib/python3.5/site-packages/ipykernel_launcher.py:6: RuntimeWarning: invalid value encountered in log10\n",
      "  \n"
     ]
    },
    {
     "data": {
      "text/plain": [
       "[]"
      ]
     },
     "execution_count": 29,
     "metadata": {},
     "output_type": "execute_result"
    },
    {
     "data": {
      "image/png": "[encoded data removed]",
      "text/plain": [
       "<Figure size 432x288 with 2 Axes>"
      ]
     },
     "metadata": {},
     "output_type": "display_data"
    }
   ],
   "source": [
    "import matplotlib.pyplot as plt\n",
    "import numpy\n",
    "import numpy.ma as ma\n",
    "missval = -999.\n",
    "X, Y = numpy.arange(vals.shape[1]), numpy.arange(vals.shape[0])\n",
    "Z = numpy.log10(ma.masked_where(vals < 0.1, vals))\n",
    "plt.title(variable + '[' + unit + ']')\n",
    "plt.pcolormesh(X,Y,Z)\n",
    "plt.colorbar()\n",
    "plt.clim(0, 3.5)\n",
    "plt.plot()"
   ]
  },
  {
   "cell_type": "code",
   "execution_count": 30,
   "metadata": {},
   "outputs": [],
   "source": [
    "del wflow"
   ]
  },
  {
   "cell_type": "markdown",
   "metadata": {},
   "source": [
    "Output files and wflow log file have been written to resp."
   ]
  },
  {
   "cell_type": "code",
   "execution_count": 31,
   "metadata": {},
   "outputs": [
    {
     "name": "stdout",
     "output_type": "stream",
     "text": [
      "-rw-r--r-- 1 stefanv root    0 Jul 17 16:09 data/examples/wflow_rhine_sbm/wflow_bmi.log\n",
      "\n",
      "data/examples/wflow_rhine_sbm/run_default:\n",
      "total 264\n",
      "drwxr-xr-x 2 stefanv root  4096 Jul 17 14:54 \u001b[0m\u001b[01;34mintbl\u001b[0m/\n",
      "-rw-r--r-- 1 stefanv root 29175 Jul 17 16:09 lev.tss\n",
      "drwxr-xr-x 2 stefanv root 36864 Jul 17 14:54 \u001b[01;34moutmaps\u001b[0m/\n",
      "drwxr-xr-x 2 stefanv root  4096 Jul 17 14:54 \u001b[01;34moutstate\u001b[0m/\n",
      "drwxr-xr-x 2 stefanv root  4096 Jul 17 14:54 \u001b[01;34moutsum\u001b[0m/\n",
      "-rw-r--r-- 1 stefanv root 17817 Jul 17 16:09 prec.csv\n",
      "drwxr-xr-x 2 stefanv root  4096 Jul 17 14:54 \u001b[01;34mruninfo\u001b[0m/\n",
      "-rw-r--r-- 1 stefanv root 27948 Jul 17 16:09 run.tss\n",
      "-rw-r--r-- 1 stefanv root 26910 Jul 17 16:09 specrun.csv\n",
      "-rw-r--r-- 1 stefanv root 27288 Jul 17 16:09 store.csv\n",
      "-rw-r--r-- 1 stefanv root 27708 Jul 17 16:09 teact.csv\n",
      "-rw-r--r-- 1 stefanv root 10554 Jul 17 16:09 tra_lu.csv\n",
      "-rw-r--r-- 1 stefanv root 29931 Jul 17 16:09 wflow.log\n"
     ]
    }
   ],
   "source": [
    "ls -l data/examples/wflow_rhine_sbm/run_default data/examples/wflow_rhine_sbm/wflow_bmi.log\n"
   ]
  },
  {
   "cell_type": "code",
   "execution_count": null,
   "metadata": {},
   "outputs": [],
   "source": []
  }
 ],
 "metadata": {
  "kernelspec": {
   "display_name": "Python 3",
   "language": "python",
   "name": "python3"
  },
  "language_info": {
   "codemirror_mode": {
    "name": "ipython",
    "version": 3
   },
   "file_extension": ".py",
   "mimetype": "text/x-python",
   "name": "python",
   "nbconvert_exporter": "python",
   "pygments_lexer": "ipython3",
   "version": "3.5.2"
  }
 },
 "nbformat": 4,
 "nbformat_minor": 2
}
