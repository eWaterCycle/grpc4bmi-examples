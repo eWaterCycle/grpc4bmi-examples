{
 "cells": [
  {
   "cell_type": "code",
   "execution_count": 1,
   "metadata": {},
   "outputs": [
    {
     "name": "stdout",
     "output_type": "stream",
     "text": [
      "# Pull model image\n",
      "FROM ewatercycle/pcr-globwb_model:latest\n",
      "MAINTAINER Gijs van den Oord <g.vandenoord@esciencecenter.nl>\n",
      "\n",
      "# Install grpc4bmi\n",
      "RUN pip install grpc4bmi\n",
      "\n",
      "# Set environment\n",
      "WORKDIR /opt\n",
      "ENV BMI_MODULE=bmiPcrglobwb\n",
      "ENV BMI_CLASS=BmiPCRGlobWB\n",
      "ENV BMI_PORT=55555\n",
      "ENTRYPOINT [\"run-bmi-server\",\"--path\",\"/opt/PCR-GLOBWB_model/model\"]\n",
      "EXPOSE 55555\n"
     ]
    }
   ],
   "source": [
    "cat Dockerfile"
   ]
  },
  {
   "cell_type": "code",
   "execution_count": 1,
   "metadata": {},
   "outputs": [],
   "source": [
    "import docker\n",
    "client = docker.from_env()"
   ]
  },
  {
   "cell_type": "code",
   "execution_count": 2,
   "metadata": {
    "scrolled": true
   },
   "outputs": [
    {
     "data": {
      "text/plain": [
       "[<Image: 'ewatercycle/pcrg-grpc4bmi:latest'>]"
      ]
     },
     "execution_count": 2,
     "metadata": {},
     "output_type": "execute_result"
    }
   ],
   "source": [
    "client.images.list(name=\"pcrg*\")"
   ]
  },
  {
   "cell_type": "code",
   "execution_count": 1,
   "metadata": {},
   "outputs": [
    {
     "name": "stdout",
     "output_type": "stream",
     "text": [
      "\u001b[0m\u001b[01;34mcloneMaps\u001b[0m/    \u001b[01;34mini_and_batch_files\u001b[0m/  \u001b[01;34mlandSurface\u001b[0m/\n",
      "\u001b[01;34mforcing\u001b[0m/      \u001b[01;34minitialConditions\u001b[0m/    pcrg_rhinemeuse.ini\n",
      "\u001b[01;34mgroundwater\u001b[0m/  \u001b[01;34mlandCover\u001b[0m/            \u001b[01;34mrouting\u001b[0m/\n"
     ]
    }
   ],
   "source": [
    "ls data/RhineMeuse30min"
   ]
  },
  {
   "cell_type": "code",
   "execution_count": 1,
   "metadata": {},
   "outputs": [],
   "source": [
    "from grpc4bmi.bmi_client_docker import BmiClientDocker\n",
    "pcrg = BmiClientDocker(image=\"ewatercycle/pcrg-grpc4bmi:latest\", image_port=55555, \n",
    "                        input_dir=\"./data/RhineMeuse30min\", \n",
    "                        output_dir=\"./output\")"
   ]
  },
  {
   "cell_type": "code",
   "execution_count": 2,
   "metadata": {},
   "outputs": [
    {
     "data": {
      "text/plain": [
       "'pcrglobwb'"
      ]
     },
     "execution_count": 2,
     "metadata": {},
     "output_type": "execute_result"
    }
   ],
   "source": [
    "pcrg.get_component_name()"
   ]
  },
  {
   "cell_type": "code",
   "execution_count": 3,
   "metadata": {},
   "outputs": [],
   "source": [
    "pcrg.initialize(\"pcrg_rhinemeuse.ini\")"
   ]
  },
  {
   "cell_type": "code",
   "execution_count": 4,
   "metadata": {},
   "outputs": [
    {
     "data": {
      "text/plain": [
       "('top_layer_soil_saturation',)"
      ]
     },
     "execution_count": 4,
     "metadata": {},
     "output_type": "execute_result"
    }
   ],
   "source": [
    "pcrg.get_input_var_names()"
   ]
  },
  {
   "cell_type": "code",
   "execution_count": 5,
   "metadata": {},
   "outputs": [
    {
     "data": {
      "text/plain": [
       "('top_layer_soil_saturation',)"
      ]
     },
     "execution_count": 5,
     "metadata": {},
     "output_type": "execute_result"
    }
   ],
   "source": [
    "pcrg.get_output_var_names()"
   ]
  },
  {
   "cell_type": "code",
   "execution_count": 6,
   "metadata": {},
   "outputs": [
    {
     "name": "stdout",
     "output_type": "stream",
     "text": [
      "36525.0\n"
     ]
    }
   ],
   "source": [
    "tstart = pcrg.get_start_time()\n",
    "tstep = pcrg.get_time_step()\n",
    "print(tstart)"
   ]
  },
  {
   "cell_type": "code",
   "execution_count": 7,
   "metadata": {},
   "outputs": [
    {
     "name": "stdout",
     "output_type": "stream",
     "text": [
      "CPU times: user 1.65 ms, sys: 4.62 ms, total: 6.26 ms\n",
      "Wall time: 26.8 s\n",
      "36625.0\n"
     ]
    }
   ],
   "source": [
    "%time pcrg.update_until(tstart + 100 * tstep)\n",
    "print(pcrg.get_current_time())"
   ]
  },
  {
   "cell_type": "code",
   "execution_count": 8,
   "metadata": {},
   "outputs": [],
   "source": [
    "variable = \"discharge\"\n",
    "vals = pcrg.get_value(variable)\n",
    "unit = pcrg.get_var_units(variable)\n",
    "shape = pcrg.get_grid_shape(pcrg.get_var_grid(variable))"
   ]
  },
  {
   "cell_type": "code",
   "execution_count": 10,
   "metadata": {},
   "outputs": [
    {
     "data": {
      "text/plain": [
       "[]"
      ]
     },
     "execution_count": 10,
     "metadata": {},
     "output_type": "execute_result"
    },
    {
     "data": {
      "image/png": "[encoded data removed]",
      "text/plain": [
       "<Figure size 432x288 with 2 Axes>"
      ]
     },
     "metadata": {},
     "output_type": "display_data"
    }
   ],
   "source": [
    "import matplotlib.pyplot as plt\n",
    "import numpy\n",
    "import numpy.ma as ma\n",
    "missval = -999.\n",
    "X, Y = numpy.arange(shape[1]), numpy.arange(shape[0])\n",
    "Z = ma.masked_where(vals == missval, vals)\n",
    "plt.title(variable + '[' + unit + ']')\n",
    "plt.pcolormesh(X,Y,Z)\n",
    "plt.colorbar()\n",
    "plt.plot()"
   ]
  },
  {
   "cell_type": "code",
   "execution_count": 11,
   "metadata": {},
   "outputs": [],
   "source": [
    "del pcrg"
   ]
  },
  {
   "cell_type": "code",
   "execution_count": null,
   "metadata": {},
   "outputs": [],
   "source": []
  }
 ],
 "metadata": {
  "kernelspec": {
   "display_name": "Python 3",
   "language": "python",
   "name": "python3"
  },
  "language_info": {
   "codemirror_mode": {
    "name": "ipython",
    "version": 3
   },
   "file_extension": ".py",
   "mimetype": "text/x-python",
   "name": "python",
   "nbconvert_exporter": "python",
   "pygments_lexer": "ipython3",
   "version": "3.5.2"
  }
 },
 "nbformat": 4,
 "nbformat_minor": 2
}
