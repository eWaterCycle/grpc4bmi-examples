{
 "cells": [
  {
   "cell_type": "markdown",
   "metadata": {},
   "source": [
    "Run PCR-GLOBWB on https://github.com/UU-Hydro/PCR-GLOBWB_input_example/tree/master/RhineMeuse30min using \n",
    "1. Parametersetdb\n",
    "2. grpc4bmi"
   ]
  },
  {
   "cell_type": "code",
   "execution_count": 1,
   "metadata": {},
   "outputs": [],
   "source": [
    "from ewatercycle.parametersetdb import build_from_urls"
   ]
  },
  {
   "cell_type": "code",
   "execution_count": 2,
   "metadata": {},
   "outputs": [],
   "source": [
    "# Prepare input\n",
    "parameter_set = build_from_urls(\n",
    "    config_format='ini', config_url='https://raw.githubusercontent.com/UU-Hydro/PCR-GLOBWB_input_example/master/RhineMeuse30min/ini_and_batch_files/rapid/setup_natural_test.ini',\n",
    "    datafiles_format='svn', datafiles_url='https://github.com/UU-Hydro/PCR-GLOBWB_input_example/trunk/RhineMeuse30min',\n",
    ")"
   ]
  },
  {
   "cell_type": "code",
   "execution_count": 3,
   "metadata": {},
   "outputs": [],
   "source": [
    "# Write data files required by model to './input'\n",
    "parameter_set.save_datafiles('./input')"
   ]
  },
  {
   "cell_type": "code",
   "execution_count": 3,
   "metadata": {},
   "outputs": [],
   "source": [
    "# Overwrite items in config file\n",
    "# parameter_set.config for this model is a configparser.ConfigParser object\n",
    "# inputDir and outputDir must be inside /data because grpc4bmi will mount input_dir output_dir as such inside container\n",
    "parameter_set.config['globalOptions']['inputDir'] = '/data/input'\n",
    "parameter_set.config['globalOptions']['outputDir'] = '/data/output'\n",
    "parameter_set.save_config('pcrg_rhinemeuse_ps.ini')"
   ]
  },
  {
   "cell_type": "code",
   "execution_count": 1,
   "metadata": {},
   "outputs": [],
   "source": [
    "from grpc4bmi.bmi_client_docker import BmiClientDocker"
   ]
  },
  {
   "cell_type": "code",
   "execution_count": 2,
   "metadata": {},
   "outputs": [],
   "source": [
    "pcrg = BmiClientDocker(image='ewatercycle/pcrg-grpc4bmi:latest', image_port=55555, \n",
    "                       input_dir=\"./input\", \n",
    "                       output_dir=\"./output\")"
   ]
  },
  {
   "cell_type": "code",
   "execution_count": 3,
   "metadata": {},
   "outputs": [],
   "source": [
    "pcrg.initialize(\"pcrg_rhinemeuse_ps.ini\")"
   ]
  },
  {
   "cell_type": "code",
   "execution_count": 4,
   "metadata": {},
   "outputs": [
    {
     "name": "stdout",
     "output_type": "stream",
     "text": [
      "36525.0\n"
     ]
    }
   ],
   "source": [
    "tstart = pcrg.get_start_time()\n",
    "tstep = pcrg.get_time_step()\n",
    "print(tstart)"
   ]
  },
  {
   "cell_type": "code",
   "execution_count": 5,
   "metadata": {},
   "outputs": [
    {
     "name": "stdout",
     "output_type": "stream",
     "text": [
      "CPU times: user 1.94 ms, sys: 4.95 ms, total: 6.9 ms\n",
      "Wall time: 25.3 s\n",
      "36625.0\n"
     ]
    }
   ],
   "source": [
    "%time pcrg.update_until(tstart + 100 * tstep)\n",
    "print(pcrg.get_current_time())"
   ]
  },
  {
   "cell_type": "code",
   "execution_count": 13,
   "metadata": {},
   "outputs": [],
   "source": [
    "variable = \"discharge\"\n",
    "vals = pcrg.get_value(variable)\n",
    "unit = pcrg.get_var_units(variable)\n",
    "shape = pcrg.get_grid_shape(pcrg.get_var_grid(variable))"
   ]
  },
  {
   "cell_type": "code",
   "execution_count": 17,
   "metadata": {},
   "outputs": [
    {
     "data": {
      "text/plain": [
       "(array([ 0,  1,  2,  3,  4,  5,  6,  7,  8,  9, 10, 11, 12, 13, 14, 15, 16]),\n",
       " array([ 0,  1,  2,  3,  4,  5,  6,  7,  8,  9, 10, 11, 12]),\n",
       " masked_array(data=[          nan,           nan,           nan,\n",
       "                              nan,           nan,           nan,\n",
       "                              nan,           nan,           nan,\n",
       "                              nan,           nan,           nan,\n",
       "                              nan,           nan,           nan,\n",
       "                              nan,           nan,           nan,\n",
       "                              nan,           nan,           nan,\n",
       "                              nan,           nan,  123.69875336,\n",
       "                     245.86079407,  189.87820435,  102.55826569,\n",
       "                     805.90692139,    9.74450207,   12.2488308 ,\n",
       "                              nan,           nan,           nan,\n",
       "                              nan,           nan,           nan,\n",
       "                              nan,           nan,           nan,\n",
       "                              nan,           nan,  506.76028442,\n",
       "                     592.125     ,  805.90692139,   65.58396912,\n",
       "                      57.33577728,  208.76861572,           nan,\n",
       "                              nan,           nan,           nan,\n",
       "                              nan,           nan,           nan,\n",
       "                              nan,           nan,           nan,\n",
       "                              nan,   71.04727173, 1170.75      ,\n",
       "                    1015.0010376 ,  208.76861572,  208.76861572,\n",
       "                     208.76861572,           nan,           nan,\n",
       "                              nan,           nan,           nan,\n",
       "                              nan,           nan,           nan,\n",
       "                      30.91456032,   69.40765381,   36.14868164,\n",
       "                      42.41506958, 1360.81896973,   18.65018463,\n",
       "                      14.79196072,           nan,           nan,\n",
       "                              nan,           nan,           nan,\n",
       "                              nan,           nan,           nan,\n",
       "                              nan,           nan,   52.23804474,\n",
       "                     226.76565552,  114.2984848 ,   20.96238518,\n",
       "                    1525.09875488, 1703.58300781,   18.5030098 ,\n",
       "                      68.74242401,    5.60924768,           nan,\n",
       "                              nan,           nan,           nan,\n",
       "                              nan,           nan,           nan,\n",
       "                      82.73937988,   18.74172783,  307.37670898,\n",
       "                      14.05935192,   14.91485786,    4.18170118,\n",
       "                    1718.03442383,  227.21148682,  173.19390869,\n",
       "                       7.9100461 ,           nan,   32.98785782,\n",
       "                              nan,           nan,           nan,\n",
       "                              nan,  151.45033264,   14.58984947,\n",
       "                      35.13142395,  407.06634521,  501.64953613,\n",
       "                      12.06319427, 2185.20117188, 2194.12817383,\n",
       "                      12.84069443,  304.92797852,  287.4493103 ,\n",
       "                     196.24006653,  134.90155029,    4.41021967,\n",
       "                       6.56054783,           nan,   40.04690933,\n",
       "                     230.36004639,   27.84897041,   22.99921227,\n",
       "                      21.96464157,   15.70153904,  582.27697754,\n",
       "                    2844.15820312,   83.53304291,  317.80532837,\n",
       "                      10.81557846,   30.80763054,    8.0390625 ,\n",
       "                       9.91365719,   39.68261719,           nan,\n",
       "                              nan,           nan,           nan,\n",
       "                     307.15084839,  355.98330688,   29.2195015 ,\n",
       "                      15.94180584, 2806.53466797,   28.04319382,\n",
       "                      26.91087914,   18.3533802 ,           nan,\n",
       "                              nan,           nan,           nan,\n",
       "                              nan,           nan,           nan,\n",
       "                              nan,           nan,           nan,\n",
       "                     391.78170776,  396.70977783, 2996.27319336,\n",
       "                      73.94004059,   44.96606445,   20.63832092,\n",
       "                              nan,           nan,           nan,\n",
       "                              nan,           nan,           nan,\n",
       "                              nan,  438.93893433,  438.62963867,\n",
       "                     421.16491699,  424.98519897,  437.69616699,\n",
       "                    3030.83789062,  125.29026794,   89.0785675 ,\n",
       "                      40.69485474,           nan,           nan,\n",
       "                              nan,           nan,           nan,\n",
       "                              nan,           nan,           nan,\n",
       "                              nan, 2384.56860352, 2608.53417969,\n",
       "                    2782.47119141, 2894.03857422,           nan,\n",
       "                              nan,           nan,           nan,\n",
       "                              nan,           nan,           nan,\n",
       "                              nan,           nan,           nan,\n",
       "                              nan,           nan],\n",
       "              mask=False,\n",
       "        fill_value=1e+20))"
      ]
     },
     "execution_count": 17,
     "metadata": {},
     "output_type": "execute_result"
    }
   ],
   "source": [
    "shape"
   ]
  },
  {
   "cell_type": "code",
   "execution_count": 41,
   "metadata": {},
   "outputs": [
    {
     "data": {
      "text/plain": [
       "[]"
      ]
     },
     "execution_count": 41,
     "metadata": {},
     "output_type": "execute_result"
    },
    {
     "data": {
      "image/png": "[encoded data removed]",
      "text/plain": [
       "<Figure size 432x288 with 2 Axes>"
      ]
     },
     "metadata": {},
     "output_type": "display_data"
    }
   ],
   "source": [
    "import matplotlib.pyplot as plt\n",
    "import numpy\n",
    "import numpy.ma as ma\n",
    "missval = -999.\n",
    "X, Y = numpy.arange(shape[1]), numpy.arange(shape[0])\n",
    "Z = numpy.reshape(ma.masked_where(vals == numpy.nan, vals), shape)\n",
    "plt.title(variable + '[' + unit + ']')\n",
    "plt.pcolormesh(X,Y,Z)\n",
    "plt.colorbar()\n",
    "plt.plot()"
   ]
  },
  {
   "cell_type": "code",
   "execution_count": 12,
   "metadata": {},
   "outputs": [],
   "source": [
    "# Stop the Docker container\n",
    "del pcrg"
   ]
  },
  {
   "cell_type": "code",
   "execution_count": 30,
   "metadata": {},
   "outputs": [
    {
     "data": {
      "text/html": [
       "\n",
       "    <div class=\"bk-root\">\n",
       "        <a href=\"https://bokeh.pydata.org\" target=\"_blank\" class=\"bk-logo bk-logo-small bk-logo-notebook\"></a>\n",
       "        <span id=\"64070123-9c23-4e64-af2e-710300458630\">Loading BokehJS ...</span>\n",
       "    </div>"
      ]
     },
     "metadata": {},
     "output_type": "execute_result"
    },
    {
     "data": {},
     "metadata": {},
     "output_type": "display_data"
    },
    {
     "ename": "NameError",
     "evalue": "name 'variable_overtime' is not defined",
     "traceback": [
      "\u001b[0;31m---------------------------------------------------------------------------\u001b[0m",
      "\u001b[0;31mNameError\u001b[0m                                 Traceback (most recent call last)",
      "\u001b[0;32m<ipython-input-30-9cd201c1607b>\u001b[0m in \u001b[0;36m<module>\u001b[0;34m()\u001b[0m\n\u001b[1;32m      7\u001b[0m \u001b[0mp\u001b[0m \u001b[0;34m=\u001b[0m \u001b[0mfigure\u001b[0m\u001b[0;34m(\u001b[0m\u001b[0mplot_width\u001b[0m\u001b[0;34m=\u001b[0m\u001b[0;36m800\u001b[0m\u001b[0;34m,\u001b[0m \u001b[0mplot_height\u001b[0m\u001b[0;34m=\u001b[0m\u001b[0;36m400\u001b[0m\u001b[0;34m,\u001b[0m \u001b[0mx_axis_type\u001b[0m\u001b[0;34m=\u001b[0m\u001b[0;34m\"datetime\"\u001b[0m\u001b[0;34m)\u001b[0m\u001b[0;34m\u001b[0m\u001b[0m\n\u001b[1;32m      8\u001b[0m \u001b[0mp\u001b[0m\u001b[0;34m.\u001b[0m\u001b[0mxaxis\u001b[0m\u001b[0;34m.\u001b[0m\u001b[0maxis_label\u001b[0m \u001b[0;34m=\u001b[0m \u001b[0mvariable\u001b[0m \u001b[0;34m+\u001b[0m \u001b[0;34m'['\u001b[0m \u001b[0;34m+\u001b[0m \u001b[0munit\u001b[0m \u001b[0;34m+\u001b[0m \u001b[0;34m']'\u001b[0m\u001b[0;34m\u001b[0m\u001b[0m\n\u001b[0;32m----> 9\u001b[0;31m \u001b[0mp\u001b[0m\u001b[0;34m.\u001b[0m\u001b[0mline\u001b[0m\u001b[0;34m(\u001b[0m\u001b[0;34m[\u001b[0m\u001b[0mcftime\u001b[0m\u001b[0;34m.\u001b[0m\u001b[0mnum2date\u001b[0m\u001b[0;34m(\u001b[0m\u001b[0md\u001b[0m\u001b[0;34m[\u001b[0m\u001b[0;36m0\u001b[0m\u001b[0;34m]\u001b[0m\u001b[0;34m,\u001b[0m \u001b[0mtime_unit\u001b[0m\u001b[0;34m)\u001b[0m \u001b[0;32mfor\u001b[0m \u001b[0md\u001b[0m \u001b[0;32min\u001b[0m \u001b[0mvariable_overtime\u001b[0m\u001b[0;34m]\u001b[0m\u001b[0;34m,\u001b[0m \u001b[0;34m[\u001b[0m\u001b[0md\u001b[0m\u001b[0;34m[\u001b[0m\u001b[0;36m1\u001b[0m\u001b[0;34m]\u001b[0m \u001b[0;32mfor\u001b[0m \u001b[0md\u001b[0m \u001b[0;32min\u001b[0m \u001b[0mvariable_overtime\u001b[0m\u001b[0;34m]\u001b[0m \u001b[0;34m,\u001b[0m \u001b[0mline_width\u001b[0m\u001b[0;34m=\u001b[0m\u001b[0;36m2\u001b[0m\u001b[0;34m)\u001b[0m\u001b[0;34m\u001b[0m\u001b[0m\n\u001b[0m\u001b[1;32m     10\u001b[0m \u001b[0mshow\u001b[0m\u001b[0;34m(\u001b[0m\u001b[0mp\u001b[0m\u001b[0;34m)\u001b[0m\u001b[0;34m\u001b[0m\u001b[0m\n",
      "\u001b[0;31mNameError\u001b[0m: name 'variable_overtime' is not defined"
     ],
     "output_type": "error"
    }
   ],
   "source": [
    "import cftime\n",
    "from bokeh.plotting import output_notebook, figure, show\n",
    "\n",
    "output_notebook()\n",
    "\n",
    "time_unit = pcrg.get_time_units()\n",
    "p = figure(plot_width=800, plot_height=400, x_axis_type=\"datetime\")\n",
    "p.xaxis.axis_label = variable + '[' + unit + ']'\n",
    "p.line([cftime.num2date(d[0], time_unit) for d in variable_overtime], [d[1] for d in variable_overtime] , line_width=2)\n",
    "show(p)"
   ]
  },
  {
   "cell_type": "code",
   "execution_count": 7,
   "metadata": {},
   "outputs": [
    {
     "data": {
      "text/plain": [
       "[nan, nan, nan, nan, nan, nan, nan, nan, nan, nan, nan, nan, nan, nan, nan, nan, nan, nan, nan, nan, nan, nan, nan, 123.6987533569336, 245.8607940673828, 189.87820434570312, 102.55826568603516, 805.9069213867188, 9.744502067565918, 12.248830795288086, nan, nan, nan, nan, nan, nan, nan, nan, nan, nan, nan, 506.7602844238281, 592.125, 805.9069213867188, 65.58396911621094, 57.335777282714844, 208.76861572265625, nan, nan, nan, nan, nan, nan, nan, nan, nan, nan, nan, 71.04727172851562, 1170.75, 1015.0010375976562, 208.76861572265625, 208.76861572265625, 208.76861572265625, nan, nan, nan, nan, nan, nan, nan, nan, 30.914560317993164, 69.40765380859375, 36.148681640625, 42.415069580078125, 1360.8189697265625, 18.650184631347656, 14.791960716247559, nan, nan, nan, nan, nan, nan, nan, nan, nan, nan, 52.23804473876953, 226.76565551757812, 114.2984848022461, 20.962385177612305, 1525.0987548828125, 1703.5830078125, 18.503009796142578, 68.74242401123047, 5.60924768447876, nan, nan, nan, nan, nan, nan, nan, 82.7393798828125, 18.741727828979492, 307.376708984375, 14.059351921081543, 14.914857864379883, 4.181701183319092, 1718.034423828125, 227.21148681640625, 173.19390869140625, 7.910046100616455, nan, 32.987857818603516, nan, nan, nan, nan, 151.45033264160156, 14.589849472045898, 35.13142395019531, 407.06634521484375, 501.6495361328125, 12.063194274902344, 2185.201171875, 2194.128173828125, 12.840694427490234, 304.927978515625, 287.4493103027344, 196.2400665283203, 134.90155029296875, 4.410219669342041, 6.560547828674316, nan, 40.04690933227539, 230.36004638671875, 27.848970413208008, 22.99921226501465, 21.964641571044922, 15.701539039611816, 582.2769775390625, 2844.158203125, 83.53304290771484, 317.8053283691406, 10.81557846069336, 30.80763053894043, 8.0390625, 9.913657188415527, 39.6826171875, nan, nan, nan, nan, 307.1508483886719, 355.9833068847656, 29.219501495361328, 15.941805839538574, 2806.53466796875, 28.043193817138672, 26.910879135131836, 18.35338020324707, nan, nan, nan, nan, nan, nan, nan, nan, nan, nan, 391.7817077636719, 396.70977783203125, 2996.273193359375, 73.9400405883789, 44.966064453125, 20.638320922851562, nan, nan, nan, nan, nan, nan, nan, 438.9389343261719, 438.629638671875, 421.1649169921875, 424.9851989746094, 437.6961669921875, 3030.837890625, 125.29026794433594, 89.07856750488281, 40.694854736328125, nan, nan, nan, nan, nan, nan, nan, nan, nan, 2384.568603515625, 2608.5341796875, 2782.47119140625, 2894.03857421875, nan, nan, nan, nan, nan, nan, nan, nan, nan, nan, nan, nan]"
      ]
     },
     "execution_count": 7,
     "metadata": {},
     "output_type": "execute_result"
    }
   ],
   "source": [
    "vals"
   ]
  },
  {
   "cell_type": "code",
   "execution_count": 8,
   "metadata": {},
   "outputs": [
    {
     "data": {
      "text/plain": [
       "'m3.s-1'"
      ]
     },
     "execution_count": 8,
     "metadata": {},
     "output_type": "execute_result"
    }
   ],
   "source": [
    "unit"
   ]
  },
  {
   "cell_type": "code",
   "execution_count": 10,
   "metadata": {},
   "outputs": [
    {
     "data": {
      "text/plain": [
       "(13, 17)"
      ]
     },
     "execution_count": 10,
     "metadata": {},
     "output_type": "execute_result"
    }
   ],
   "source": [
    "pcrg.get_grid_shape(0)"
   ]
  },
  {
   "cell_type": "code",
   "execution_count": 15,
   "metadata": {},
   "outputs": [
    {
     "data": {
      "text/plain": [
       "221"
      ]
     },
     "execution_count": 15,
     "metadata": {},
     "output_type": "execute_result"
    }
   ],
   "source": [
    "len(vals)"
   ]
  },
  {
   "cell_type": "code",
   "execution_count": 16,
   "metadata": {},
   "outputs": [
    {
     "data": {
      "text/plain": [
       "17.0"
      ]
     },
     "execution_count": 16,
     "metadata": {},
     "output_type": "execute_result"
    }
   ],
   "source": [
    "221/13\n"
   ]
  },
  {
   "cell_type": "code",
   "execution_count": 34,
   "metadata": {},
   "outputs": [
    {
     "data": {
      "text/plain": [
       "[46.25, 46.75, 47.25, 47.75, 48.25, 48.75, 49.25, 49.75, 50.25, 50.75, 51.25, 51.75, 52.25]"
      ]
     },
     "execution_count": 34,
     "metadata": {},
     "output_type": "execute_result"
    }
   ],
   "source": [
    "pcrg.get_grid_x(0)"
   ]
  },
  {
   "cell_type": "code",
   "execution_count": 35,
   "metadata": {},
   "outputs": [
    {
     "data": {
      "text/plain": [
       "[3.75, 4.25, 4.75, 5.25, 5.75, 6.25, 6.75, 7.25, 7.75, 8.25, 8.75, 9.25, 9.75, 10.25, 10.75, 11.25, 11.75]"
      ]
     },
     "execution_count": 35,
     "metadata": {},
     "output_type": "execute_result"
    }
   ],
   "source": [
    "pcrg.get_grid_y(0)"
   ]
  },
  {
   "cell_type": "code",
   "execution_count": 37,
   "metadata": {},
   "outputs": [
    {
     "data": {
      "text/plain": [
       "[nan, nan, nan, nan, nan, nan, nan, nan, nan, nan, nan, nan, nan, nan, nan, nan, nan, nan, nan, nan, nan, nan, nan, 123.6987533569336, 245.8607940673828, 189.87820434570312, 102.55826568603516, 805.9069213867188, 9.744502067565918, 12.248830795288086, nan, nan, nan, nan, nan, nan, nan, nan, nan, nan, nan, 506.7602844238281, 592.125, 805.9069213867188, 65.58396911621094, 57.335777282714844, 208.76861572265625, nan, nan, nan, nan, nan, nan, nan, nan, nan, nan, nan, 71.04727172851562, 1170.75, 1015.0010375976562, 208.76861572265625, 208.76861572265625, 208.76861572265625, nan, nan, nan, nan, nan, nan, nan, nan, 30.914560317993164, 69.40765380859375, 36.148681640625, 42.415069580078125, 1360.8189697265625, 18.650184631347656, 14.791960716247559, nan, nan, nan, nan, nan, nan, nan, nan, nan, nan, 52.23804473876953, 226.76565551757812, 114.2984848022461, 20.962385177612305, 1525.0987548828125, 1703.5830078125, 18.503009796142578, 68.74242401123047, 5.60924768447876, nan, nan, nan, nan, nan, nan, nan, 82.7393798828125, 18.741727828979492, 307.376708984375, 14.059351921081543, 14.914857864379883, 4.181701183319092, 1718.034423828125, 227.21148681640625, 173.19390869140625, 7.910046100616455, nan, 32.987857818603516, nan, nan, nan, nan, 151.45033264160156, 14.589849472045898, 35.13142395019531, 407.06634521484375, 501.6495361328125, 12.063194274902344, 2185.201171875, 2194.128173828125, 12.840694427490234, 304.927978515625, 287.4493103027344, 196.2400665283203, 134.90155029296875, 4.410219669342041, 6.560547828674316, nan, 40.04690933227539, 230.36004638671875, 27.848970413208008, 22.99921226501465, 21.964641571044922, 15.701539039611816, 582.2769775390625, 2844.158203125, 83.53304290771484, 317.8053283691406, 10.81557846069336, 30.80763053894043, 8.0390625, 9.913657188415527, 39.6826171875, nan, nan, nan, nan, 307.1508483886719, 355.9833068847656, 29.219501495361328, 15.941805839538574, 2806.53466796875, 28.043193817138672, 26.910879135131836, 18.35338020324707, nan, nan, nan, nan, nan, nan, nan, nan, nan, nan, 391.7817077636719, 396.70977783203125, 2996.273193359375, 73.9400405883789, 44.966064453125, 20.638320922851562, nan, nan, nan, nan, nan, nan, nan, 438.9389343261719, 438.629638671875, 421.1649169921875, 424.9851989746094, 437.6961669921875, 3030.837890625, 125.29026794433594, 89.07856750488281, 40.694854736328125, nan, nan, nan, nan, nan, nan, nan, nan, nan, 2384.568603515625, 2608.5341796875, 2782.47119140625, 2894.03857421875, nan, nan, nan, nan, nan, nan, nan, nan, nan, nan, nan, nan]"
      ]
     },
     "execution_count": 37,
     "metadata": {},
     "output_type": "execute_result"
    }
   ],
   "source": [
    "vals"
   ]
  },
  {
   "cell_type": "code",
   "execution_count": 38,
   "metadata": {},
   "outputs": [
    {
     "data": {
      "text/plain": [
       "masked_array(\n",
       "  data=[[          nan,           nan,           nan,           nan,\n",
       "                   nan,           nan,           nan,           nan,\n",
       "                   nan,           nan,           nan,           nan,\n",
       "                   nan,           nan,           nan,           nan,\n",
       "                   nan],\n",
       "        [          nan,           nan,           nan,           nan,\n",
       "                   nan,           nan,  123.69875336,  245.86079407,\n",
       "          189.87820435,  102.55826569,  805.90692139,    9.74450207,\n",
       "           12.2488308 ,           nan,           nan,           nan,\n",
       "                   nan],\n",
       "        [          nan,           nan,           nan,           nan,\n",
       "                   nan,           nan,           nan,  506.76028442,\n",
       "          592.125     ,  805.90692139,   65.58396912,   57.33577728,\n",
       "          208.76861572,           nan,           nan,           nan,\n",
       "                   nan],\n",
       "        [          nan,           nan,           nan,           nan,\n",
       "                   nan,           nan,           nan,   71.04727173,\n",
       "         1170.75      , 1015.0010376 ,  208.76861572,  208.76861572,\n",
       "          208.76861572,           nan,           nan,           nan,\n",
       "                   nan],\n",
       "        [          nan,           nan,           nan,           nan,\n",
       "           30.91456032,   69.40765381,   36.14868164,   42.41506958,\n",
       "         1360.81896973,   18.65018463,   14.79196072,           nan,\n",
       "                   nan,           nan,           nan,           nan,\n",
       "                   nan],\n",
       "        [          nan,           nan,           nan,           nan,\n",
       "           52.23804474,  226.76565552,  114.2984848 ,   20.96238518,\n",
       "         1525.09875488, 1703.58300781,   18.5030098 ,   68.74242401,\n",
       "            5.60924768,           nan,           nan,           nan,\n",
       "                   nan],\n",
       "        [          nan,           nan,           nan,   82.73937988,\n",
       "           18.74172783,  307.37670898,   14.05935192,   14.91485786,\n",
       "            4.18170118, 1718.03442383,  227.21148682,  173.19390869,\n",
       "            7.9100461 ,           nan,   32.98785782,           nan,\n",
       "                   nan],\n",
       "        [          nan,           nan,  151.45033264,   14.58984947,\n",
       "           35.13142395,  407.06634521,  501.64953613,   12.06319427,\n",
       "         2185.20117188, 2194.12817383,   12.84069443,  304.92797852,\n",
       "          287.4493103 ,  196.24006653,  134.90155029,    4.41021967,\n",
       "            6.56054783],\n",
       "        [          nan,   40.04690933,  230.36004639,   27.84897041,\n",
       "           22.99921227,   21.96464157,   15.70153904,  582.27697754,\n",
       "         2844.15820312,   83.53304291,  317.80532837,   10.81557846,\n",
       "           30.80763054,    8.0390625 ,    9.91365719,   39.68261719,\n",
       "                   nan],\n",
       "        [          nan,           nan,           nan,  307.15084839,\n",
       "          355.98330688,   29.2195015 ,   15.94180584, 2806.53466797,\n",
       "           28.04319382,   26.91087914,   18.3533802 ,           nan,\n",
       "                   nan,           nan,           nan,           nan,\n",
       "                   nan],\n",
       "        [          nan,           nan,           nan,           nan,\n",
       "          391.78170776,  396.70977783, 2996.27319336,   73.94004059,\n",
       "           44.96606445,   20.63832092,           nan,           nan,\n",
       "                   nan,           nan,           nan,           nan,\n",
       "                   nan],\n",
       "        [ 438.93893433,  438.62963867,  421.16491699,  424.98519897,\n",
       "          437.69616699, 3030.83789062,  125.29026794,   89.0785675 ,\n",
       "           40.69485474,           nan,           nan,           nan,\n",
       "                   nan,           nan,           nan,           nan,\n",
       "                   nan],\n",
       "        [          nan, 2384.56860352, 2608.53417969, 2782.47119141,\n",
       "         2894.03857422,           nan,           nan,           nan,\n",
       "                   nan,           nan,           nan,           nan,\n",
       "                   nan,           nan,           nan,           nan,\n",
       "                   nan]],\n",
       "  mask=False,\n",
       "  fill_value=1e+20)"
      ]
     },
     "execution_count": 38,
     "metadata": {},
     "output_type": "execute_result"
    }
   ],
   "source": [
    "Z"
   ]
  },
  {
   "cell_type": "code",
   "execution_count": null,
   "metadata": {},
   "outputs": [],
   "source": []
  }
 ],
 "metadata": {
  "kernelspec": {
   "display_name": "Python 3",
   "language": "python",
   "name": "python3"
  },
  "language_info": {
   "codemirror_mode": {
    "name": "ipython",
    "version": 3
   },
   "file_extension": ".py",
   "mimetype": "text/x-python",
   "name": "python",
   "nbconvert_exporter": "python",
   "pygments_lexer": "ipython3",
   "version": "3.6.5"
  }
 },
 "nbformat": 4,
 "nbformat_minor": 2
}
